{
 "cells": [
  {
   "cell_type": "markdown",
   "source": [
    "## Import Data and Libraries"
   ],
   "metadata": {
    "collapsed": false,
    "pycharm": {
     "name": "#%% md\n"
    }
   }
  },
  {
   "cell_type": "code",
   "execution_count": 14,
   "outputs": [],
   "source": [
    "import pandas as pd\n",
    "import numpy as np\n",
    "import seaborn as sns\n",
    "import matplotlib\n",
    "import matplotlib.pyplot as plt\n",
    "import os\n",
    "import sklearn\n",
    "from sklearn.model_selection import train_test_split\n",
    "from sklearn.linear_model import LinearRegression\n",
    "from sklearn.metrics import mean_squared_error, r2_score\n",
    "\n",
    "#Inline images for visualizations\n",
    "\n",
    "%matplotlib inline\n",
    "\n",
    "#set paths\n",
    "path = r'Data'\n",
    "\n",
    "#import data\n",
    "hate_crime_split = pd.read_csv(os.path.join(path,'hate_crime_split.csv'))"
   ],
   "metadata": {
    "collapsed": false,
    "pycharm": {
     "name": "#%%\n"
    }
   }
  },
  {
   "cell_type": "markdown",
   "source": [
    "## Clean data"
   ],
   "metadata": {
    "collapsed": false,
    "pycharm": {
     "name": "#%% md\n"
    }
   }
  },
  {
   "cell_type": "code",
   "execution_count": 15,
   "outputs": [
    {
     "data": {
      "text/plain": "(219577, 32)"
     },
     "execution_count": 15,
     "metadata": {},
     "output_type": "execute_result"
    }
   ],
   "source": [
    "hate_crime_split.shape"
   ],
   "metadata": {
    "collapsed": false,
    "pycharm": {
     "name": "#%%\n"
    }
   }
  },
  {
   "cell_type": "code",
   "execution_count": 16,
   "outputs": [
    {
     "data": {
      "text/plain": "Index(['INCIDENT_ID', 'DATA_YEAR', 'ORI', 'PUB_AGENCY_NAME', 'PUB_AGENCY_UNIT',\n       'AGENCY_TYPE_NAME', 'STATE_ABBR', 'STATE_NAME', 'DIVISION_NAME',\n       'REGION_NAME', 'POPULATION_GROUP_CODE', 'POPULATION_GROUP_DESC',\n       'INCIDENT_DATE', 'ADULT_VICTIM_COUNT', 'JUVENILE_VICTIM_COUNT',\n       'TOTAL_OFFENDER_COUNT', 'ADULT_OFFENDER_COUNT',\n       'JUVENILE_OFFENDER_COUNT', 'OFFENDER_RACE', 'OFFENDER_ETHNICITY',\n       'VICTIM_COUNT', 'OFFENSE_NAME.1', 'OFFENSE_NAME.2', 'OFFENSE_NAME.3',\n       'TOTAL_INDIVIDUAL_VICTIMS', 'LOCATION_NAME.1', 'LOCATION_NAME.2',\n       'BIAS_DESC', 'VICTIM_TYPES.1', 'VICTIM_TYPES.2', 'MULTIPLE_OFFENSE',\n       'MULTIPLE_BIAS'],\n      dtype='object')"
     },
     "execution_count": 16,
     "metadata": {},
     "output_type": "execute_result"
    }
   ],
   "source": [
    "hate_crime_split.columns"
   ],
   "metadata": {
    "collapsed": false,
    "pycharm": {
     "name": "#%%\n"
    }
   }
  },
  {
   "cell_type": "code",
   "execution_count": 17,
   "outputs": [
    {
     "data": {
      "text/plain": "   INCIDENT_ID  DATA_YEAR        ORI PUB_AGENCY_NAME PUB_AGENCY_UNIT  \\\n0         3015       1991  AR0040200          Rogers         Unknown   \n1         3016       1991  AR0290100            Hope         Unknown   \n2           43       1991  AR0350100      Pine Bluff         Unknown   \n3           44       1991  AR0350100      Pine Bluff         Unknown   \n4         3017       1991  AR0350100      Pine Bluff         Unknown   \n\n  AGENCY_TYPE_NAME STATE_ABBR STATE_NAME       DIVISION_NAME REGION_NAME  ...  \\\n0             City         AR   Arkansas  West South Central       South  ...   \n1             City         AR   Arkansas  West South Central       South  ...   \n2             City         AR   Arkansas  West South Central       South  ...   \n3             City         AR   Arkansas  West South Central       South  ...   \n4             City         AR   Arkansas  West South Central       South  ...   \n\n                             OFFENSE_NAME.2 OFFENSE_NAME.3  \\\n0                                       NaN            NaN   \n1                                       NaN            NaN   \n2                                       NaN            NaN   \n3  Destruction/Damage/Vandalism of Property            NaN   \n4                                       NaN            NaN   \n\n  TOTAL_INDIVIDUAL_VICTIMS                     LOCATION_NAME.1  \\\n0                      1.0  Highway/Road/Alley/Street/Sidewalk   \n1                      1.0  Highway/Road/Alley/Street/Sidewalk   \n2                      1.0                      Residence/Home   \n3                      1.0  Highway/Road/Alley/Street/Sidewalk   \n4                      1.0                 Service/Gas Station   \n\n   LOCATION_NAME.2                       BIAS_DESC  VICTIM_TYPES.1  \\\n0              NaN  Anti-Black or African American      Individual   \n1              NaN                      Anti-White      Individual   \n2              NaN  Anti-Black or African American      Individual   \n3              NaN                      Anti-White      Individual   \n4              NaN                      Anti-White      Individual   \n\n   VICTIM_TYPES.2 MULTIPLE_OFFENSE MULTIPLE_BIAS  \n0             NaN                S             S  \n1             NaN                S             S  \n2             NaN                S             S  \n3             NaN                M             S  \n4             NaN                S             S  \n\n[5 rows x 32 columns]",
      "text/html": "<div>\n<style scoped>\n    .dataframe tbody tr th:only-of-type {\n        vertical-align: middle;\n    }\n\n    .dataframe tbody tr th {\n        vertical-align: top;\n    }\n\n    .dataframe thead th {\n        text-align: right;\n    }\n</style>\n<table border=\"1\" class=\"dataframe\">\n  <thead>\n    <tr style=\"text-align: right;\">\n      <th></th>\n      <th>INCIDENT_ID</th>\n      <th>DATA_YEAR</th>\n      <th>ORI</th>\n      <th>PUB_AGENCY_NAME</th>\n      <th>PUB_AGENCY_UNIT</th>\n      <th>AGENCY_TYPE_NAME</th>\n      <th>STATE_ABBR</th>\n      <th>STATE_NAME</th>\n      <th>DIVISION_NAME</th>\n      <th>REGION_NAME</th>\n      <th>...</th>\n      <th>OFFENSE_NAME.2</th>\n      <th>OFFENSE_NAME.3</th>\n      <th>TOTAL_INDIVIDUAL_VICTIMS</th>\n      <th>LOCATION_NAME.1</th>\n      <th>LOCATION_NAME.2</th>\n      <th>BIAS_DESC</th>\n      <th>VICTIM_TYPES.1</th>\n      <th>VICTIM_TYPES.2</th>\n      <th>MULTIPLE_OFFENSE</th>\n      <th>MULTIPLE_BIAS</th>\n    </tr>\n  </thead>\n  <tbody>\n    <tr>\n      <th>0</th>\n      <td>3015</td>\n      <td>1991</td>\n      <td>AR0040200</td>\n      <td>Rogers</td>\n      <td>Unknown</td>\n      <td>City</td>\n      <td>AR</td>\n      <td>Arkansas</td>\n      <td>West South Central</td>\n      <td>South</td>\n      <td>...</td>\n      <td>NaN</td>\n      <td>NaN</td>\n      <td>1.0</td>\n      <td>Highway/Road/Alley/Street/Sidewalk</td>\n      <td>NaN</td>\n      <td>Anti-Black or African American</td>\n      <td>Individual</td>\n      <td>NaN</td>\n      <td>S</td>\n      <td>S</td>\n    </tr>\n    <tr>\n      <th>1</th>\n      <td>3016</td>\n      <td>1991</td>\n      <td>AR0290100</td>\n      <td>Hope</td>\n      <td>Unknown</td>\n      <td>City</td>\n      <td>AR</td>\n      <td>Arkansas</td>\n      <td>West South Central</td>\n      <td>South</td>\n      <td>...</td>\n      <td>NaN</td>\n      <td>NaN</td>\n      <td>1.0</td>\n      <td>Highway/Road/Alley/Street/Sidewalk</td>\n      <td>NaN</td>\n      <td>Anti-White</td>\n      <td>Individual</td>\n      <td>NaN</td>\n      <td>S</td>\n      <td>S</td>\n    </tr>\n    <tr>\n      <th>2</th>\n      <td>43</td>\n      <td>1991</td>\n      <td>AR0350100</td>\n      <td>Pine Bluff</td>\n      <td>Unknown</td>\n      <td>City</td>\n      <td>AR</td>\n      <td>Arkansas</td>\n      <td>West South Central</td>\n      <td>South</td>\n      <td>...</td>\n      <td>NaN</td>\n      <td>NaN</td>\n      <td>1.0</td>\n      <td>Residence/Home</td>\n      <td>NaN</td>\n      <td>Anti-Black or African American</td>\n      <td>Individual</td>\n      <td>NaN</td>\n      <td>S</td>\n      <td>S</td>\n    </tr>\n    <tr>\n      <th>3</th>\n      <td>44</td>\n      <td>1991</td>\n      <td>AR0350100</td>\n      <td>Pine Bluff</td>\n      <td>Unknown</td>\n      <td>City</td>\n      <td>AR</td>\n      <td>Arkansas</td>\n      <td>West South Central</td>\n      <td>South</td>\n      <td>...</td>\n      <td>Destruction/Damage/Vandalism of Property</td>\n      <td>NaN</td>\n      <td>1.0</td>\n      <td>Highway/Road/Alley/Street/Sidewalk</td>\n      <td>NaN</td>\n      <td>Anti-White</td>\n      <td>Individual</td>\n      <td>NaN</td>\n      <td>M</td>\n      <td>S</td>\n    </tr>\n    <tr>\n      <th>4</th>\n      <td>3017</td>\n      <td>1991</td>\n      <td>AR0350100</td>\n      <td>Pine Bluff</td>\n      <td>Unknown</td>\n      <td>City</td>\n      <td>AR</td>\n      <td>Arkansas</td>\n      <td>West South Central</td>\n      <td>South</td>\n      <td>...</td>\n      <td>NaN</td>\n      <td>NaN</td>\n      <td>1.0</td>\n      <td>Service/Gas Station</td>\n      <td>NaN</td>\n      <td>Anti-White</td>\n      <td>Individual</td>\n      <td>NaN</td>\n      <td>S</td>\n      <td>S</td>\n    </tr>\n  </tbody>\n</table>\n<p>5 rows × 32 columns</p>\n</div>"
     },
     "execution_count": 17,
     "metadata": {},
     "output_type": "execute_result"
    }
   ],
   "source": [
    "hate_crime_split.head()"
   ],
   "metadata": {
    "collapsed": false,
    "pycharm": {
     "name": "#%%\n"
    }
   }
  },
  {
   "cell_type": "code",
   "execution_count": 18,
   "outputs": [
    {
     "data": {
      "text/plain": "   INCIDENT_ID  DATA_YEAR        ORI PUB_AGENCY_NAME PUB_AGENCY_UNIT  \\\n0         3015       1991  AR0040200          Rogers         Unknown   \n1         3016       1991  AR0290100            Hope         Unknown   \n2           43       1991  AR0350100      Pine Bluff         Unknown   \n3           44       1991  AR0350100      Pine Bluff         Unknown   \n4         3017       1991  AR0350100      Pine Bluff         Unknown   \n\n  AGENCY_TYPE_NAME STATE_ABBR STATE_NAME       DIVISION_NAME REGION_NAME  ...  \\\n0             City         AR   Arkansas  West South Central       South  ...   \n1             City         AR   Arkansas  West South Central       South  ...   \n2             City         AR   Arkansas  West South Central       South  ...   \n3             City         AR   Arkansas  West South Central       South  ...   \n4             City         AR   Arkansas  West South Central       South  ...   \n\n                             OFFENSE_NAME.2 OFFENSE_NAME.3  \\\n0                                       NaN            NaN   \n1                                       NaN            NaN   \n2                                       NaN            NaN   \n3  Destruction/Damage/Vandalism of Property            NaN   \n4                                       NaN            NaN   \n\n  TOTAL_INDIVIDUAL_VICTIMS                     LOCATION_NAME.1  \\\n0                      1.0  Highway/Road/Alley/Street/Sidewalk   \n1                      1.0  Highway/Road/Alley/Street/Sidewalk   \n2                      1.0                      Residence/Home   \n3                      1.0  Highway/Road/Alley/Street/Sidewalk   \n4                      1.0                 Service/Gas Station   \n\n   LOCATION_NAME.2                       BIAS_DESC  VICTIM_TYPES.1  \\\n0              NaN  Anti-Black or African American      Individual   \n1              NaN                      Anti-White      Individual   \n2              NaN  Anti-Black or African American      Individual   \n3              NaN                      Anti-White      Individual   \n4              NaN                      Anti-White      Individual   \n\n   VICTIM_TYPES.2 MULTIPLE_OFFENSE MULTIPLE_BIAS  \n0             NaN                S             S  \n1             NaN                S             S  \n2             NaN                S             S  \n3             NaN                M             S  \n4             NaN                S             S  \n\n[5 rows x 32 columns]",
      "text/html": "<div>\n<style scoped>\n    .dataframe tbody tr th:only-of-type {\n        vertical-align: middle;\n    }\n\n    .dataframe tbody tr th {\n        vertical-align: top;\n    }\n\n    .dataframe thead th {\n        text-align: right;\n    }\n</style>\n<table border=\"1\" class=\"dataframe\">\n  <thead>\n    <tr style=\"text-align: right;\">\n      <th></th>\n      <th>INCIDENT_ID</th>\n      <th>DATA_YEAR</th>\n      <th>ORI</th>\n      <th>PUB_AGENCY_NAME</th>\n      <th>PUB_AGENCY_UNIT</th>\n      <th>AGENCY_TYPE_NAME</th>\n      <th>STATE_ABBR</th>\n      <th>STATE_NAME</th>\n      <th>DIVISION_NAME</th>\n      <th>REGION_NAME</th>\n      <th>...</th>\n      <th>OFFENSE_NAME.2</th>\n      <th>OFFENSE_NAME.3</th>\n      <th>TOTAL_INDIVIDUAL_VICTIMS</th>\n      <th>LOCATION_NAME.1</th>\n      <th>LOCATION_NAME.2</th>\n      <th>BIAS_DESC</th>\n      <th>VICTIM_TYPES.1</th>\n      <th>VICTIM_TYPES.2</th>\n      <th>MULTIPLE_OFFENSE</th>\n      <th>MULTIPLE_BIAS</th>\n    </tr>\n  </thead>\n  <tbody>\n    <tr>\n      <th>0</th>\n      <td>3015</td>\n      <td>1991</td>\n      <td>AR0040200</td>\n      <td>Rogers</td>\n      <td>Unknown</td>\n      <td>City</td>\n      <td>AR</td>\n      <td>Arkansas</td>\n      <td>West South Central</td>\n      <td>South</td>\n      <td>...</td>\n      <td>NaN</td>\n      <td>NaN</td>\n      <td>1.0</td>\n      <td>Highway/Road/Alley/Street/Sidewalk</td>\n      <td>NaN</td>\n      <td>Anti-Black or African American</td>\n      <td>Individual</td>\n      <td>NaN</td>\n      <td>S</td>\n      <td>S</td>\n    </tr>\n    <tr>\n      <th>1</th>\n      <td>3016</td>\n      <td>1991</td>\n      <td>AR0290100</td>\n      <td>Hope</td>\n      <td>Unknown</td>\n      <td>City</td>\n      <td>AR</td>\n      <td>Arkansas</td>\n      <td>West South Central</td>\n      <td>South</td>\n      <td>...</td>\n      <td>NaN</td>\n      <td>NaN</td>\n      <td>1.0</td>\n      <td>Highway/Road/Alley/Street/Sidewalk</td>\n      <td>NaN</td>\n      <td>Anti-White</td>\n      <td>Individual</td>\n      <td>NaN</td>\n      <td>S</td>\n      <td>S</td>\n    </tr>\n    <tr>\n      <th>2</th>\n      <td>43</td>\n      <td>1991</td>\n      <td>AR0350100</td>\n      <td>Pine Bluff</td>\n      <td>Unknown</td>\n      <td>City</td>\n      <td>AR</td>\n      <td>Arkansas</td>\n      <td>West South Central</td>\n      <td>South</td>\n      <td>...</td>\n      <td>NaN</td>\n      <td>NaN</td>\n      <td>1.0</td>\n      <td>Residence/Home</td>\n      <td>NaN</td>\n      <td>Anti-Black or African American</td>\n      <td>Individual</td>\n      <td>NaN</td>\n      <td>S</td>\n      <td>S</td>\n    </tr>\n    <tr>\n      <th>3</th>\n      <td>44</td>\n      <td>1991</td>\n      <td>AR0350100</td>\n      <td>Pine Bluff</td>\n      <td>Unknown</td>\n      <td>City</td>\n      <td>AR</td>\n      <td>Arkansas</td>\n      <td>West South Central</td>\n      <td>South</td>\n      <td>...</td>\n      <td>Destruction/Damage/Vandalism of Property</td>\n      <td>NaN</td>\n      <td>1.0</td>\n      <td>Highway/Road/Alley/Street/Sidewalk</td>\n      <td>NaN</td>\n      <td>Anti-White</td>\n      <td>Individual</td>\n      <td>NaN</td>\n      <td>M</td>\n      <td>S</td>\n    </tr>\n    <tr>\n      <th>4</th>\n      <td>3017</td>\n      <td>1991</td>\n      <td>AR0350100</td>\n      <td>Pine Bluff</td>\n      <td>Unknown</td>\n      <td>City</td>\n      <td>AR</td>\n      <td>Arkansas</td>\n      <td>West South Central</td>\n      <td>South</td>\n      <td>...</td>\n      <td>NaN</td>\n      <td>NaN</td>\n      <td>1.0</td>\n      <td>Service/Gas Station</td>\n      <td>NaN</td>\n      <td>Anti-White</td>\n      <td>Individual</td>\n      <td>NaN</td>\n      <td>S</td>\n      <td>S</td>\n    </tr>\n  </tbody>\n</table>\n<p>5 rows × 32 columns</p>\n</div>"
     },
     "execution_count": 18,
     "metadata": {},
     "output_type": "execute_result"
    }
   ],
   "source": [
    "hate_crime_split.head()"
   ],
   "metadata": {
    "collapsed": false,
    "pycharm": {
     "name": "#%%\n"
    }
   }
  },
  {
   "cell_type": "code",
   "execution_count": 19,
   "outputs": [
    {
     "data": {
      "text/plain": "INCIDENT_ID                      0\nDATA_YEAR                        0\nORI                              0\nPUB_AGENCY_NAME                  0\nPUB_AGENCY_UNIT                  0\nAGENCY_TYPE_NAME                 0\nSTATE_ABBR                       0\nSTATE_NAME                       0\nDIVISION_NAME                    0\nREGION_NAME                      0\nPOPULATION_GROUP_CODE            0\nPOPULATION_GROUP_DESC            0\nINCIDENT_DATE                    0\nADULT_VICTIM_COUNT               0\nJUVENILE_VICTIM_COUNT            0\nTOTAL_OFFENDER_COUNT             0\nADULT_OFFENDER_COUNT             0\nJUVENILE_OFFENDER_COUNT          0\nOFFENDER_RACE                   20\nOFFENDER_ETHNICITY               0\nVICTIM_COUNT                     0\nOFFENSE_NAME.1                   0\nOFFENSE_NAME.2              212182\nOFFENSE_NAME.3              219083\nTOTAL_INDIVIDUAL_VICTIMS      3479\nLOCATION_NAME.1                  0\nLOCATION_NAME.2             219314\nBIAS_DESC                        0\nVICTIM_TYPES.1                   0\nVICTIM_TYPES.2              215991\nMULTIPLE_OFFENSE                 0\nMULTIPLE_BIAS                    0\ndtype: int64"
     },
     "execution_count": 19,
     "metadata": {},
     "output_type": "execute_result"
    }
   ],
   "source": [
    "hate_crime_split.isnull().sum()"
   ],
   "metadata": {
    "collapsed": false,
    "pycharm": {
     "name": "#%%\n"
    }
   }
  },
  {
   "cell_type": "code",
   "execution_count": 24,
   "outputs": [],
   "source": [
    "hate_crime_split_1 = hate_crime_split.fillna(value='None', method=None)"
   ],
   "metadata": {
    "collapsed": false,
    "pycharm": {
     "name": "#%%\n"
    }
   }
  },
  {
   "cell_type": "code",
   "execution_count": 25,
   "outputs": [
    {
     "data": {
      "text/plain": "INCIDENT_ID                 0\nDATA_YEAR                   0\nORI                         0\nPUB_AGENCY_NAME             0\nPUB_AGENCY_UNIT             0\nAGENCY_TYPE_NAME            0\nSTATE_ABBR                  0\nSTATE_NAME                  0\nDIVISION_NAME               0\nREGION_NAME                 0\nPOPULATION_GROUP_CODE       0\nPOPULATION_GROUP_DESC       0\nINCIDENT_DATE               0\nADULT_VICTIM_COUNT          0\nJUVENILE_VICTIM_COUNT       0\nTOTAL_OFFENDER_COUNT        0\nADULT_OFFENDER_COUNT        0\nJUVENILE_OFFENDER_COUNT     0\nOFFENDER_RACE               0\nOFFENDER_ETHNICITY          0\nVICTIM_COUNT                0\nOFFENSE_NAME.1              0\nOFFENSE_NAME.2              0\nOFFENSE_NAME.3              0\nTOTAL_INDIVIDUAL_VICTIMS    0\nLOCATION_NAME.1             0\nLOCATION_NAME.2             0\nBIAS_DESC                   0\nVICTIM_TYPES.1              0\nVICTIM_TYPES.2              0\nMULTIPLE_OFFENSE            0\nMULTIPLE_BIAS               0\ndtype: int64"
     },
     "execution_count": 25,
     "metadata": {},
     "output_type": "execute_result"
    }
   ],
   "source": [
    "hate_crime_split_1.isnull().sum()"
   ],
   "metadata": {
    "collapsed": false,
    "pycharm": {
     "name": "#%%\n"
    }
   }
  },
  {
   "cell_type": "markdown",
   "source": [
    "## Histogram"
   ],
   "metadata": {
    "collapsed": false,
    "pycharm": {
     "name": "#%% md\n"
    }
   }
  },
  {
   "cell_type": "code",
   "execution_count": 28,
   "outputs": [
    {
     "name": "stderr",
     "output_type": "stream",
     "text": [
      "G:\\Anaconda\\lib\\site-packages\\seaborn\\distributions.py:2619: FutureWarning: `distplot` is a deprecated function and will be removed in a future version. Please adapt your code to use either `displot` (a figure-level function with similar flexibility) or `histplot` (an axes-level function for histograms).\n",
      "  warnings.warn(msg, FutureWarning)\n"
     ]
    },
    {
     "data": {
      "text/plain": "<AxesSubplot:xlabel='VICTIM_COUNT', ylabel='Density'>"
     },
     "execution_count": 28,
     "metadata": {},
     "output_type": "execute_result"
    },
    {
     "data": {
      "text/plain": "<Figure size 432x288 with 1 Axes>",
      "image/png": "[encoded data removed]"
     },
     "metadata": {
      "needs_background": "light"
     },
     "output_type": "display_data"
    }
   ],
   "source": [
    "sns.distplot(hate_crime_split_1['VICTIM_COUNT'], bins=25)"
   ],
   "metadata": {
    "collapsed": false,
    "pycharm": {
     "name": "#%%\n"
    }
   }
  },
  {
   "cell_type": "code",
   "execution_count": 30,
   "outputs": [
    {
     "data": {
      "text/plain": "1.2475669127458704"
     },
     "execution_count": 30,
     "metadata": {},
     "output_type": "execute_result"
    }
   ],
   "source": [
    "hate_crime_split_1['VICTIM_COUNT'].mean()"
   ],
   "metadata": {
    "collapsed": false,
    "pycharm": {
     "name": "#%%\n"
    }
   }
  },
  {
   "cell_type": "code",
   "execution_count": 31,
   "outputs": [
    {
     "data": {
      "text/plain": "900"
     },
     "execution_count": 31,
     "metadata": {},
     "output_type": "execute_result"
    }
   ],
   "source": [
    "hate_crime_split_1['VICTIM_COUNT'].max()"
   ],
   "metadata": {
    "collapsed": false,
    "pycharm": {
     "name": "#%%\n"
    }
   }
  },
  {
   "cell_type": "code",
   "execution_count": 32,
   "outputs": [
    {
     "data": {
      "text/plain": "1.0"
     },
     "execution_count": 32,
     "metadata": {},
     "output_type": "execute_result"
    }
   ],
   "source": [
    "hate_crime_split_1['VICTIM_COUNT'].median()"
   ],
   "metadata": {
    "collapsed": false,
    "pycharm": {
     "name": "#%%\n"
    }
   }
  },
  {
   "cell_type": "markdown",
   "source": [
    "## Regression Analysis"
   ],
   "metadata": {
    "collapsed": false,
    "pycharm": {
     "name": "#%% md\n"
    }
   }
  },
  {
   "cell_type": "code",
   "execution_count": 37,
   "outputs": [
    {
     "data": {
      "text/plain": "<Figure size 432x288 with 1 Axes>",
      "image/png": "[encoded data removed]"
     },
     "metadata": {
      "needs_background": "light"
     },
     "output_type": "display_data"
    }
   ],
   "source": [
    "# Create a scatterplot using matplotlib for another look at how the chosen variables plot against each other.\n",
    "\n",
    "hate_crime_split_1.plot(x = 'ADULT_OFFENDER_COUNT', y='VICTIM_COUNT',style='o') # The style option creates a scatterplot; without it, we only have lines.\n",
    "plt.title('Adult Offender Count vs Victim Count')\n",
    "plt.xlabel('Adult Offenders')\n",
    "plt.ylabel('Victim Count')\n",
    "plt.show()"
   ],
   "metadata": {
    "collapsed": false,
    "pycharm": {
     "name": "#%%\n"
    }
   }
  },
  {
   "cell_type": "markdown",
   "source": [
    "## Hypothesis\n",
    "The number of offenders does not impact the number of victims in an incident."
   ],
   "metadata": {
    "collapsed": false,
    "pycharm": {
     "name": "#%% md\n"
    }
   }
  },
  {
   "cell_type": "code",
   "execution_count": 40,
   "outputs": [],
   "source": [
    "# Reshape the variables into NumPy arrays and put them into separate objects.\n",
    "\n",
    "X = hate_crime_split_1['ADULT_OFFENDER_COUNT'].values.reshape(-1,1)\n",
    "Y = hate_crime_split_1['VICTIM_COUNT'].values.reshape(-1,1)"
   ],
   "metadata": {
    "collapsed": false,
    "pycharm": {
     "name": "#%%\n"
    }
   }
  },
  {
   "cell_type": "code",
   "execution_count": 41,
   "outputs": [
    {
     "data": {
      "text/plain": "array([[0],\n       [0],\n       [0],\n       ...,\n       [1],\n       [1],\n       [1]], dtype=int64)"
     },
     "execution_count": 41,
     "metadata": {},
     "output_type": "execute_result"
    }
   ],
   "source": [
    "X"
   ],
   "metadata": {
    "collapsed": false,
    "pycharm": {
     "name": "#%%\n"
    }
   }
  },
  {
   "cell_type": "code",
   "execution_count": 42,
   "outputs": [
    {
     "data": {
      "text/plain": "array([[1],\n       [1],\n       [1],\n       ...,\n       [1],\n       [1],\n       [1]], dtype=int64)"
     },
     "execution_count": 42,
     "metadata": {},
     "output_type": "execute_result"
    }
   ],
   "source": [
    "Y"
   ],
   "metadata": {
    "collapsed": false,
    "pycharm": {
     "name": "#%%\n"
    }
   }
  },
  {
   "cell_type": "code",
   "execution_count": 46,
   "outputs": [
    {
     "data": {
      "text/plain": "dtype('int64')"
     },
     "execution_count": 46,
     "metadata": {},
     "output_type": "execute_result"
    }
   ],
   "source": [
    "X.dtype"
   ],
   "metadata": {
    "collapsed": false,
    "pycharm": {
     "name": "#%%\n"
    }
   }
  },
  {
   "cell_type": "code",
   "execution_count": 47,
   "outputs": [],
   "source": [
    "# Split data into a training set and a test set.\n",
    "\n",
    "X_train, X_test, Y_train, Y_test = train_test_split(X, Y, test_size=0.3, random_state=0)"
   ],
   "metadata": {
    "collapsed": false,
    "pycharm": {
     "name": "#%%\n"
    }
   }
  },
  {
   "cell_type": "markdown",
   "source": [
    "## Regression"
   ],
   "metadata": {
    "collapsed": false,
    "pycharm": {
     "name": "#%% md\n"
    }
   }
  },
  {
   "cell_type": "code",
   "execution_count": 48,
   "outputs": [
    {
     "data": {
      "text/plain": "LinearRegression()",
      "text/html": "<style>#sk-container-id-1 {color: black;background-color: white;}#sk-container-id-1 pre{padding: 0;}#sk-container-id-1 div.sk-toggleable {background-color: white;}#sk-container-id-1 label.sk-toggleable__label {cursor: pointer;display: block;width: 100%;margin-bottom: 0;padding: 0.3em;box-sizing: border-box;text-align: center;}#sk-container-id-1 label.sk-toggleable__label-arrow:before {content: \"▸\";float: left;margin-right: 0.25em;color: #696969;}#sk-container-id-1 label.sk-toggleable__label-arrow:hover:before {color: black;}#sk-container-id-1 div.sk-estimator:hover label.sk-toggleable__label-arrow:before {color: black;}#sk-container-id-1 div.sk-toggleable__content {max-height: 0;max-width: 0;overflow: hidden;text-align: left;background-color: #f0f8ff;}#sk-container-id-1 div.sk-toggleable__content pre {margin: 0.2em;color: black;border-radius: 0.25em;background-color: #f0f8ff;}#sk-container-id-1 input.sk-toggleable__control:checked~div.sk-toggleable__content {max-height: 200px;max-width: 100%;overflow: auto;}#sk-container-id-1 input.sk-toggleable__control:checked~label.sk-toggleable__label-arrow:before {content: \"▾\";}#sk-container-id-1 div.sk-estimator input.sk-toggleable__control:checked~label.sk-toggleable__label {background-color: #d4ebff;}#sk-container-id-1 div.sk-label input.sk-toggleable__control:checked~label.sk-toggleable__label {background-color: #d4ebff;}#sk-container-id-1 input.sk-hidden--visually {border: 0;clip: rect(1px 1px 1px 1px);clip: rect(1px, 1px, 1px, 1px);height: 1px;margin: -1px;overflow: hidden;padding: 0;position: absolute;width: 1px;}#sk-container-id-1 div.sk-estimator {font-family: monospace;background-color: #f0f8ff;border: 1px dotted black;border-radius: 0.25em;box-sizing: border-box;margin-bottom: 0.5em;}#sk-container-id-1 div.sk-estimator:hover {background-color: #d4ebff;}#sk-container-id-1 div.sk-parallel-item::after {content: \"\";width: 100%;border-bottom: 1px solid gray;flex-grow: 1;}#sk-container-id-1 div.sk-label:hover label.sk-toggleable__label {background-color: #d4ebff;}#sk-container-id-1 div.sk-serial::before {content: \"\";position: absolute;border-left: 1px solid gray;box-sizing: border-box;top: 0;bottom: 0;left: 50%;z-index: 0;}#sk-container-id-1 div.sk-serial {display: flex;flex-direction: column;align-items: center;background-color: white;padding-right: 0.2em;padding-left: 0.2em;position: relative;}#sk-container-id-1 div.sk-item {position: relative;z-index: 1;}#sk-container-id-1 div.sk-parallel {display: flex;align-items: stretch;justify-content: center;background-color: white;position: relative;}#sk-container-id-1 div.sk-item::before, #sk-container-id-1 div.sk-parallel-item::before {content: \"\";position: absolute;border-left: 1px solid gray;box-sizing: border-box;top: 0;bottom: 0;left: 50%;z-index: -1;}#sk-container-id-1 div.sk-parallel-item {display: flex;flex-direction: column;z-index: 1;position: relative;background-color: white;}#sk-container-id-1 div.sk-parallel-item:first-child::after {align-self: flex-end;width: 50%;}#sk-container-id-1 div.sk-parallel-item:last-child::after {align-self: flex-start;width: 50%;}#sk-container-id-1 div.sk-parallel-item:only-child::after {width: 0;}#sk-container-id-1 div.sk-dashed-wrapped {border: 1px dashed gray;margin: 0 0.4em 0.5em 0.4em;box-sizing: border-box;padding-bottom: 0.4em;background-color: white;}#sk-container-id-1 div.sk-label label {font-family: monospace;font-weight: bold;display: inline-block;line-height: 1.2em;}#sk-container-id-1 div.sk-label-container {text-align: center;}#sk-container-id-1 div.sk-container {/* jupyter's `normalize.less` sets `[hidden] { display: none; }` but bootstrap.min.css set `[hidden] { display: none !important; }` so we also need the `!important` here to be able to override the default hidden behavior on the sphinx rendered scikit-learn.org. See: https://github.com/scikit-learn/scikit-learn/issues/21755 */display: inline-block !important;position: relative;}#sk-container-id-1 div.sk-text-repr-fallback {display: none;}</style><div id=\"sk-container-id-1\" class=\"sk-top-container\"><div class=\"sk-text-repr-fallback\"><pre>LinearRegression()</pre><b>In a Jupyter environment, please rerun this cell to show the HTML representation or trust the notebook. <br />On GitHub, the HTML representation is unable to render, please try loading this page with nbviewer.org.</b></div><div class=\"sk-container\" hidden><div class=\"sk-item\"><div class=\"sk-estimator sk-toggleable\"><input class=\"sk-toggleable__control sk-hidden--visually\" id=\"sk-estimator-id-1\" type=\"checkbox\" checked><label for=\"sk-estimator-id-1\" class=\"sk-toggleable__label sk-toggleable__label-arrow\">LinearRegression</label><div class=\"sk-toggleable__content\"><pre>LinearRegression()</pre></div></div></div></div></div>"
     },
     "execution_count": 48,
     "metadata": {},
     "output_type": "execute_result"
    }
   ],
   "source": [
    "regression = LinearRegression()\n",
    "regression.fit(X_train, Y_train)"
   ],
   "metadata": {
    "collapsed": false,
    "pycharm": {
     "name": "#%%\n"
    }
   }
  },
  {
   "cell_type": "code",
   "execution_count": 49,
   "outputs": [],
   "source": [
    "y_predicted = regression.predict(X_test)"
   ],
   "metadata": {
    "collapsed": false,
    "pycharm": {
     "name": "#%%\n"
    }
   }
  },
  {
   "cell_type": "code",
   "execution_count": 50,
   "outputs": [
    {
     "data": {
      "text/plain": "<Figure size 432x288 with 1 Axes>",
      "image/png": "[encoded data removed]"
     },
     "metadata": {
      "needs_background": "light"
     },
     "output_type": "display_data"
    }
   ],
   "source": [
    "plot_test = plt\n",
    "plot_test.scatter(X_test, Y_test, color='gray', s = 15)\n",
    "plot_test.plot(X_test, y_predicted, color='red', linewidth =3)\n",
    "plot_test.title('Adult Offender Count vs. Victim Count (Test set)')\n",
    "plot_test.xlabel('Adult Offender Count')\n",
    "plot_test.ylabel('Victim Count')\n",
    "plot_test.show()"
   ],
   "metadata": {
    "collapsed": false,
    "pycharm": {
     "name": "#%%\n"
    }
   }
  },
  {
   "cell_type": "code",
   "execution_count": 51,
   "outputs": [],
   "source": [
    "rmse = mean_squared_error(Y_test, y_predicted)\n",
    "r2 = r2_score(Y_test, y_predicted)"
   ],
   "metadata": {
    "collapsed": false,
    "pycharm": {
     "name": "#%%\n"
    }
   }
  },
  {
   "cell_type": "code",
   "execution_count": 52,
   "outputs": [
    {
     "name": "stdout",
     "output_type": "stream",
     "text": [
      "Slope: [[0.10635981]]\n",
      "Mean squared error:  1.3243001070983502\n",
      "R2 score:  -0.0007857061537983601\n"
     ]
    }
   ],
   "source": [
    "print('Slope:' ,regression.coef_)\n",
    "print('Mean squared error: ', rmse)\n",
    "print('R2 score: ', r2)"
   ],
   "metadata": {
    "collapsed": false,
    "pycharm": {
     "name": "#%%\n"
    }
   }
  },
  {
   "cell_type": "code",
   "execution_count": 53,
   "outputs": [
    {
     "data": {
      "text/plain": "array([[1.23785505],\n       [1.23785505],\n       [1.23785505],\n       ...,\n       [1.23785505],\n       [1.23785505],\n       [1.23785505]])"
     },
     "execution_count": 53,
     "metadata": {},
     "output_type": "execute_result"
    }
   ],
   "source": [
    "y_predicted"
   ],
   "metadata": {
    "collapsed": false,
    "pycharm": {
     "name": "#%%\n"
    }
   }
  },
  {
   "cell_type": "code",
   "execution_count": 54,
   "outputs": [
    {
     "data": {
      "text/plain": "    Actual  Predicted\n0        2   1.237855\n1        2   1.237855\n2        1   1.237855\n3        1   1.344215\n4        1   1.237855\n5        1   1.237855\n6        7   1.237855\n7        1   1.237855\n8        1   1.237855\n9        1   1.237855\n10       1   1.237855\n11       2   1.237855\n12       1   1.237855\n13       1   1.344215\n14       1   1.237855\n15       1   1.237855\n16       1   1.237855\n17       1   1.344215\n18       1   1.237855\n19       2   1.237855\n20       1   1.237855\n21       1   1.237855\n22       1   1.237855\n23       1   1.237855\n24       2   1.237855\n25       1   1.237855\n26       1   1.237855\n27       1   1.237855\n28       1   1.237855\n29       2   1.237855",
      "text/html": "<div>\n<style scoped>\n    .dataframe tbody tr th:only-of-type {\n        vertical-align: middle;\n    }\n\n    .dataframe tbody tr th {\n        vertical-align: top;\n    }\n\n    .dataframe thead th {\n        text-align: right;\n    }\n</style>\n<table border=\"1\" class=\"dataframe\">\n  <thead>\n    <tr style=\"text-align: right;\">\n      <th></th>\n      <th>Actual</th>\n      <th>Predicted</th>\n    </tr>\n  </thead>\n  <tbody>\n    <tr>\n      <th>0</th>\n      <td>2</td>\n      <td>1.237855</td>\n    </tr>\n    <tr>\n      <th>1</th>\n      <td>2</td>\n      <td>1.237855</td>\n    </tr>\n    <tr>\n      <th>2</th>\n      <td>1</td>\n      <td>1.237855</td>\n    </tr>\n    <tr>\n      <th>3</th>\n      <td>1</td>\n      <td>1.344215</td>\n    </tr>\n    <tr>\n      <th>4</th>\n      <td>1</td>\n      <td>1.237855</td>\n    </tr>\n    <tr>\n      <th>5</th>\n      <td>1</td>\n      <td>1.237855</td>\n    </tr>\n    <tr>\n      <th>6</th>\n      <td>7</td>\n      <td>1.237855</td>\n    </tr>\n    <tr>\n      <th>7</th>\n      <td>1</td>\n      <td>1.237855</td>\n    </tr>\n    <tr>\n      <th>8</th>\n      <td>1</td>\n      <td>1.237855</td>\n    </tr>\n    <tr>\n      <th>9</th>\n      <td>1</td>\n      <td>1.237855</td>\n    </tr>\n    <tr>\n      <th>10</th>\n      <td>1</td>\n      <td>1.237855</td>\n    </tr>\n    <tr>\n      <th>11</th>\n      <td>2</td>\n      <td>1.237855</td>\n    </tr>\n    <tr>\n      <th>12</th>\n      <td>1</td>\n      <td>1.237855</td>\n    </tr>\n    <tr>\n      <th>13</th>\n      <td>1</td>\n      <td>1.344215</td>\n    </tr>\n    <tr>\n      <th>14</th>\n      <td>1</td>\n      <td>1.237855</td>\n    </tr>\n    <tr>\n      <th>15</th>\n      <td>1</td>\n      <td>1.237855</td>\n    </tr>\n    <tr>\n      <th>16</th>\n      <td>1</td>\n      <td>1.237855</td>\n    </tr>\n    <tr>\n      <th>17</th>\n      <td>1</td>\n      <td>1.344215</td>\n    </tr>\n    <tr>\n      <th>18</th>\n      <td>1</td>\n      <td>1.237855</td>\n    </tr>\n    <tr>\n      <th>19</th>\n      <td>2</td>\n      <td>1.237855</td>\n    </tr>\n    <tr>\n      <th>20</th>\n      <td>1</td>\n      <td>1.237855</td>\n    </tr>\n    <tr>\n      <th>21</th>\n      <td>1</td>\n      <td>1.237855</td>\n    </tr>\n    <tr>\n      <th>22</th>\n      <td>1</td>\n      <td>1.237855</td>\n    </tr>\n    <tr>\n      <th>23</th>\n      <td>1</td>\n      <td>1.237855</td>\n    </tr>\n    <tr>\n      <th>24</th>\n      <td>2</td>\n      <td>1.237855</td>\n    </tr>\n    <tr>\n      <th>25</th>\n      <td>1</td>\n      <td>1.237855</td>\n    </tr>\n    <tr>\n      <th>26</th>\n      <td>1</td>\n      <td>1.237855</td>\n    </tr>\n    <tr>\n      <th>27</th>\n      <td>1</td>\n      <td>1.237855</td>\n    </tr>\n    <tr>\n      <th>28</th>\n      <td>1</td>\n      <td>1.237855</td>\n    </tr>\n    <tr>\n      <th>29</th>\n      <td>2</td>\n      <td>1.237855</td>\n    </tr>\n  </tbody>\n</table>\n</div>"
     },
     "execution_count": 54,
     "metadata": {},
     "output_type": "execute_result"
    }
   ],
   "source": [
    "data = pd.DataFrame({'Actual': Y_test.flatten(), 'Predicted': y_predicted.flatten()})\n",
    "data.head(30)"
   ],
   "metadata": {
    "collapsed": false,
    "pycharm": {
     "name": "#%%\n"
    }
   }
  },
  {
   "cell_type": "code",
   "execution_count": 55,
   "outputs": [
    {
     "name": "stdout",
     "output_type": "stream",
     "text": [
      "Slope: [[0.10635981]]\n",
      "Mean squared error:  6.8187337309058185\n",
      "R2 score:  0.00031294816636651124\n"
     ]
    }
   ],
   "source": [
    "y_predicted_train = regression.predict(X_train)  # This is predicting X_train!\n",
    "rmse = mean_squared_error(Y_train, y_predicted_train)\n",
    "r2 = r2_score(Y_train, y_predicted_train)\n",
    "print('Slope:', regression.coef_)\n",
    "print('Mean squared error: ', rmse)\n",
    "print('R2 score: ', r2)"
   ],
   "metadata": {
    "collapsed": false,
    "pycharm": {
     "name": "#%%\n"
    }
   }
  },
  {
   "cell_type": "code",
   "execution_count": 56,
   "outputs": [
    {
     "data": {
      "text/plain": "<Figure size 432x288 with 1 Axes>",
      "image/png": "[encoded data removed]"
     },
     "metadata": {
      "needs_background": "light"
     },
     "output_type": "display_data"
    }
   ],
   "source": [
    "plot_test = plt\n",
    "plot_test.scatter(X_train, Y_train, color='green', s = 15)\n",
    "plot_test.plot(X_train, y_predicted_train, color='red', linewidth =3)\n",
    "plot_test.title('Adult Offender Count vs. Victim Count (Test set)')\n",
    "plot_test.xlabel('Adult Offender Count')\n",
    "plot_test.ylabel('Victim Count')\n",
    "plot_test.show()"
   ],
   "metadata": {
    "collapsed": false,
    "pycharm": {
     "name": "#%%\n"
    }
   }
  },
  {
   "cell_type": "markdown",
   "source": [
    "## Removing Outliers"
   ],
   "metadata": {
    "collapsed": false,
    "pycharm": {
     "name": "#%% md\n"
    }
   }
  },
  {
   "cell_type": "code",
   "execution_count": 62,
   "outputs": [
    {
     "ename": "TypeError",
     "evalue": "unsupported operand type(s) for &: 'float' and 'float'",
     "output_type": "error",
     "traceback": [
      "\u001B[1;31m---------------------------------------------------------------------------\u001B[0m",
      "\u001B[1;31mTypeError\u001B[0m                                 Traceback (most recent call last)",
      "File \u001B[1;32mG:\\Anaconda\\lib\\site-packages\\pandas\\core\\ops\\array_ops.py:301\u001B[0m, in \u001B[0;36mna_logical_op\u001B[1;34m(x, y, op)\u001B[0m\n\u001B[0;32m    292\u001B[0m \u001B[38;5;28;01mtry\u001B[39;00m:\n\u001B[0;32m    293\u001B[0m     \u001B[38;5;66;03m# For exposition, write:\u001B[39;00m\n\u001B[0;32m    294\u001B[0m     \u001B[38;5;66;03m#  yarr = isinstance(y, np.ndarray)\u001B[39;00m\n\u001B[1;32m   (...)\u001B[0m\n\u001B[0;32m    299\u001B[0m     \u001B[38;5;66;03m# Then Cases where this goes through without raising include:\u001B[39;00m\n\u001B[0;32m    300\u001B[0m     \u001B[38;5;66;03m#  (xint or xbool) and (yint or bool)\u001B[39;00m\n\u001B[1;32m--> 301\u001B[0m     result \u001B[38;5;241m=\u001B[39m \u001B[43mop\u001B[49m\u001B[43m(\u001B[49m\u001B[43mx\u001B[49m\u001B[43m,\u001B[49m\u001B[43m \u001B[49m\u001B[43my\u001B[49m\u001B[43m)\u001B[49m\n\u001B[0;32m    302\u001B[0m \u001B[38;5;28;01mexcept\u001B[39;00m \u001B[38;5;167;01mTypeError\u001B[39;00m:\n",
      "\u001B[1;31mTypeError\u001B[0m: unsupported operand type(s) for &: 'float' and 'float'",
      "\nDuring handling of the above exception, another exception occurred:\n",
      "\u001B[1;31mTypeError\u001B[0m                                 Traceback (most recent call last)",
      "Input \u001B[1;32mIn [62]\u001B[0m, in \u001B[0;36m<cell line: 1>\u001B[1;34m()\u001B[0m\n\u001B[1;32m----> 1\u001B[0m hate_crime_split_2 \u001B[38;5;241m=\u001B[39m \u001B[43mhate_crime_split_1\u001B[49m\u001B[43m[\u001B[49m\u001B[43mhate_crime_split_1\u001B[49m\u001B[43m[\u001B[49m\u001B[38;5;124;43m'\u001B[39;49m\u001B[38;5;124;43mVICTIM_COUNT\u001B[39;49m\u001B[38;5;124;43m'\u001B[39;49m\u001B[43m]\u001B[49m\u001B[43m \u001B[49m\u001B[38;5;241;43m<\u001B[39;49m\u001B[38;5;241;43m=\u001B[39;49m\u001B[38;5;241;43m100\u001B[39;49m\u001B[43m]\u001B[49m\u001B[43m \u001B[49m\u001B[38;5;241;43m&\u001B[39;49m\u001B[43m \u001B[49m\u001B[43mhate_crime_split_1\u001B[49m\u001B[43m[\u001B[49m\u001B[43mhate_crime_split_1\u001B[49m\u001B[43m[\u001B[49m\u001B[38;5;124;43m'\u001B[39;49m\u001B[38;5;124;43mADULT_OFFENDER_COUNT\u001B[39;49m\u001B[38;5;124;43m'\u001B[39;49m\u001B[43m]\u001B[49m\u001B[43m \u001B[49m\u001B[38;5;241;43m<\u001B[39;49m\u001B[38;5;241;43m=\u001B[39;49m\u001B[38;5;241;43m30\u001B[39;49m\u001B[43m]\u001B[49m\n",
      "File \u001B[1;32mG:\\Anaconda\\lib\\site-packages\\pandas\\core\\ops\\common.py:70\u001B[0m, in \u001B[0;36m_unpack_zerodim_and_defer.<locals>.new_method\u001B[1;34m(self, other)\u001B[0m\n\u001B[0;32m     66\u001B[0m             \u001B[38;5;28;01mreturn\u001B[39;00m \u001B[38;5;28mNotImplemented\u001B[39m\n\u001B[0;32m     68\u001B[0m other \u001B[38;5;241m=\u001B[39m item_from_zerodim(other)\n\u001B[1;32m---> 70\u001B[0m \u001B[38;5;28;01mreturn\u001B[39;00m \u001B[43mmethod\u001B[49m\u001B[43m(\u001B[49m\u001B[38;5;28;43mself\u001B[39;49m\u001B[43m,\u001B[49m\u001B[43m \u001B[49m\u001B[43mother\u001B[49m\u001B[43m)\u001B[49m\n",
      "File \u001B[1;32mG:\\Anaconda\\lib\\site-packages\\pandas\\core\\arraylike.py:70\u001B[0m, in \u001B[0;36mOpsMixin.__and__\u001B[1;34m(self, other)\u001B[0m\n\u001B[0;32m     68\u001B[0m \u001B[38;5;129m@unpack_zerodim_and_defer\u001B[39m(\u001B[38;5;124m\"\u001B[39m\u001B[38;5;124m__and__\u001B[39m\u001B[38;5;124m\"\u001B[39m)\n\u001B[0;32m     69\u001B[0m \u001B[38;5;28;01mdef\u001B[39;00m \u001B[38;5;21m__and__\u001B[39m(\u001B[38;5;28mself\u001B[39m, other):\n\u001B[1;32m---> 70\u001B[0m     \u001B[38;5;28;01mreturn\u001B[39;00m \u001B[38;5;28;43mself\u001B[39;49m\u001B[38;5;241;43m.\u001B[39;49m\u001B[43m_logical_method\u001B[49m\u001B[43m(\u001B[49m\u001B[43mother\u001B[49m\u001B[43m,\u001B[49m\u001B[43m \u001B[49m\u001B[43moperator\u001B[49m\u001B[38;5;241;43m.\u001B[39;49m\u001B[43mand_\u001B[49m\u001B[43m)\u001B[49m\n",
      "File \u001B[1;32mG:\\Anaconda\\lib\\site-packages\\pandas\\core\\frame.py:6952\u001B[0m, in \u001B[0;36mDataFrame._arith_method\u001B[1;34m(self, other, op)\u001B[0m\n\u001B[0;32m   6948\u001B[0m other \u001B[38;5;241m=\u001B[39m ops\u001B[38;5;241m.\u001B[39mmaybe_prepare_scalar_for_op(other, (\u001B[38;5;28mself\u001B[39m\u001B[38;5;241m.\u001B[39mshape[axis],))\n\u001B[0;32m   6950\u001B[0m \u001B[38;5;28mself\u001B[39m, other \u001B[38;5;241m=\u001B[39m ops\u001B[38;5;241m.\u001B[39malign_method_FRAME(\u001B[38;5;28mself\u001B[39m, other, axis, flex\u001B[38;5;241m=\u001B[39m\u001B[38;5;28;01mTrue\u001B[39;00m, level\u001B[38;5;241m=\u001B[39m\u001B[38;5;28;01mNone\u001B[39;00m)\n\u001B[1;32m-> 6952\u001B[0m new_data \u001B[38;5;241m=\u001B[39m \u001B[38;5;28;43mself\u001B[39;49m\u001B[38;5;241;43m.\u001B[39;49m\u001B[43m_dispatch_frame_op\u001B[49m\u001B[43m(\u001B[49m\u001B[43mother\u001B[49m\u001B[43m,\u001B[49m\u001B[43m \u001B[49m\u001B[43mop\u001B[49m\u001B[43m,\u001B[49m\u001B[43m \u001B[49m\u001B[43maxis\u001B[49m\u001B[38;5;241;43m=\u001B[39;49m\u001B[43maxis\u001B[49m\u001B[43m)\u001B[49m\n\u001B[0;32m   6953\u001B[0m \u001B[38;5;28;01mreturn\u001B[39;00m \u001B[38;5;28mself\u001B[39m\u001B[38;5;241m.\u001B[39m_construct_result(new_data)\n",
      "File \u001B[1;32mG:\\Anaconda\\lib\\site-packages\\pandas\\core\\frame.py:6991\u001B[0m, in \u001B[0;36mDataFrame._dispatch_frame_op\u001B[1;34m(self, right, func, axis)\u001B[0m\n\u001B[0;32m   6985\u001B[0m     \u001B[38;5;66;03m# TODO: The previous assertion `assert right._indexed_same(self)`\u001B[39;00m\n\u001B[0;32m   6986\u001B[0m     \u001B[38;5;66;03m#  fails in cases with empty columns reached via\u001B[39;00m\n\u001B[0;32m   6987\u001B[0m     \u001B[38;5;66;03m#  _frame_arith_method_with_reindex\u001B[39;00m\n\u001B[0;32m   6988\u001B[0m \n\u001B[0;32m   6989\u001B[0m     \u001B[38;5;66;03m# TODO operate_blockwise expects a manager of the same type\u001B[39;00m\n\u001B[0;32m   6990\u001B[0m     \u001B[38;5;28;01mwith\u001B[39;00m np\u001B[38;5;241m.\u001B[39merrstate(\u001B[38;5;28mall\u001B[39m\u001B[38;5;241m=\u001B[39m\u001B[38;5;124m\"\u001B[39m\u001B[38;5;124mignore\u001B[39m\u001B[38;5;124m\"\u001B[39m):\n\u001B[1;32m-> 6991\u001B[0m         bm \u001B[38;5;241m=\u001B[39m \u001B[38;5;28;43mself\u001B[39;49m\u001B[38;5;241;43m.\u001B[39;49m\u001B[43m_mgr\u001B[49m\u001B[38;5;241;43m.\u001B[39;49m\u001B[43moperate_blockwise\u001B[49m\u001B[43m(\u001B[49m\n\u001B[0;32m   6992\u001B[0m \u001B[43m            \u001B[49m\u001B[38;5;66;43;03m# error: Argument 1 to \"operate_blockwise\" of \"ArrayManager\" has\u001B[39;49;00m\n\u001B[0;32m   6993\u001B[0m \u001B[43m            \u001B[49m\u001B[38;5;66;43;03m# incompatible type \"Union[ArrayManager, BlockManager]\"; expected\u001B[39;49;00m\n\u001B[0;32m   6994\u001B[0m \u001B[43m            \u001B[49m\u001B[38;5;66;43;03m# \"ArrayManager\"\u001B[39;49;00m\n\u001B[0;32m   6995\u001B[0m \u001B[43m            \u001B[49m\u001B[38;5;66;43;03m# error: Argument 1 to \"operate_blockwise\" of \"BlockManager\" has\u001B[39;49;00m\n\u001B[0;32m   6996\u001B[0m \u001B[43m            \u001B[49m\u001B[38;5;66;43;03m# incompatible type \"Union[ArrayManager, BlockManager]\"; expected\u001B[39;49;00m\n\u001B[0;32m   6997\u001B[0m \u001B[43m            \u001B[49m\u001B[38;5;66;43;03m# \"BlockManager\"\u001B[39;49;00m\n\u001B[0;32m   6998\u001B[0m \u001B[43m            \u001B[49m\u001B[43mright\u001B[49m\u001B[38;5;241;43m.\u001B[39;49m\u001B[43m_mgr\u001B[49m\u001B[43m,\u001B[49m\u001B[43m  \u001B[49m\u001B[38;5;66;43;03m# type: ignore[arg-type]\u001B[39;49;00m\n\u001B[0;32m   6999\u001B[0m \u001B[43m            \u001B[49m\u001B[43marray_op\u001B[49m\u001B[43m,\u001B[49m\n\u001B[0;32m   7000\u001B[0m \u001B[43m        \u001B[49m\u001B[43m)\u001B[49m\n\u001B[0;32m   7001\u001B[0m     \u001B[38;5;28;01mreturn\u001B[39;00m \u001B[38;5;28mself\u001B[39m\u001B[38;5;241m.\u001B[39m_constructor(bm)\n\u001B[0;32m   7003\u001B[0m \u001B[38;5;28;01melif\u001B[39;00m \u001B[38;5;28misinstance\u001B[39m(right, Series) \u001B[38;5;129;01mand\u001B[39;00m axis \u001B[38;5;241m==\u001B[39m \u001B[38;5;241m1\u001B[39m:\n\u001B[0;32m   7004\u001B[0m     \u001B[38;5;66;03m# axis=1 means we want to operate row-by-row\u001B[39;00m\n",
      "File \u001B[1;32mG:\\Anaconda\\lib\\site-packages\\pandas\\core\\internals\\managers.py:1409\u001B[0m, in \u001B[0;36mBlockManager.operate_blockwise\u001B[1;34m(self, other, array_op)\u001B[0m\n\u001B[0;32m   1405\u001B[0m \u001B[38;5;28;01mdef\u001B[39;00m \u001B[38;5;21moperate_blockwise\u001B[39m(\u001B[38;5;28mself\u001B[39m, other: BlockManager, array_op) \u001B[38;5;241m-\u001B[39m\u001B[38;5;241m>\u001B[39m BlockManager:\n\u001B[0;32m   1406\u001B[0m     \u001B[38;5;124;03m\"\"\"\u001B[39;00m\n\u001B[0;32m   1407\u001B[0m \u001B[38;5;124;03m    Apply array_op blockwise with another (aligned) BlockManager.\u001B[39;00m\n\u001B[0;32m   1408\u001B[0m \u001B[38;5;124;03m    \"\"\"\u001B[39;00m\n\u001B[1;32m-> 1409\u001B[0m     \u001B[38;5;28;01mreturn\u001B[39;00m \u001B[43moperate_blockwise\u001B[49m\u001B[43m(\u001B[49m\u001B[38;5;28;43mself\u001B[39;49m\u001B[43m,\u001B[49m\u001B[43m \u001B[49m\u001B[43mother\u001B[49m\u001B[43m,\u001B[49m\u001B[43m \u001B[49m\u001B[43marray_op\u001B[49m\u001B[43m)\u001B[49m\n",
      "File \u001B[1;32mG:\\Anaconda\\lib\\site-packages\\pandas\\core\\internals\\ops.py:63\u001B[0m, in \u001B[0;36moperate_blockwise\u001B[1;34m(left, right, array_op)\u001B[0m\n\u001B[0;32m     61\u001B[0m res_blks: \u001B[38;5;28mlist\u001B[39m[Block] \u001B[38;5;241m=\u001B[39m []\n\u001B[0;32m     62\u001B[0m \u001B[38;5;28;01mfor\u001B[39;00m lvals, rvals, locs, left_ea, right_ea, rblk \u001B[38;5;129;01min\u001B[39;00m _iter_block_pairs(left, right):\n\u001B[1;32m---> 63\u001B[0m     res_values \u001B[38;5;241m=\u001B[39m \u001B[43marray_op\u001B[49m\u001B[43m(\u001B[49m\u001B[43mlvals\u001B[49m\u001B[43m,\u001B[49m\u001B[43m \u001B[49m\u001B[43mrvals\u001B[49m\u001B[43m)\u001B[49m\n\u001B[0;32m     64\u001B[0m     \u001B[38;5;28;01mif\u001B[39;00m left_ea \u001B[38;5;129;01mand\u001B[39;00m \u001B[38;5;129;01mnot\u001B[39;00m right_ea \u001B[38;5;129;01mand\u001B[39;00m \u001B[38;5;28mhasattr\u001B[39m(res_values, \u001B[38;5;124m\"\u001B[39m\u001B[38;5;124mreshape\u001B[39m\u001B[38;5;124m\"\u001B[39m):\n\u001B[0;32m     65\u001B[0m         res_values \u001B[38;5;241m=\u001B[39m res_values\u001B[38;5;241m.\u001B[39mreshape(\u001B[38;5;241m1\u001B[39m, \u001B[38;5;241m-\u001B[39m\u001B[38;5;241m1\u001B[39m)\n",
      "File \u001B[1;32mG:\\Anaconda\\lib\\site-packages\\pandas\\core\\ops\\array_ops.py:391\u001B[0m, in \u001B[0;36mlogical_op\u001B[1;34m(left, right, op)\u001B[0m\n\u001B[0;32m    387\u001B[0m \u001B[38;5;66;03m# For int vs int `^`, `|`, `&` are bitwise operators and return\u001B[39;00m\n\u001B[0;32m    388\u001B[0m \u001B[38;5;66;03m#   integer dtypes.  Otherwise these are boolean ops\u001B[39;00m\n\u001B[0;32m    389\u001B[0m filler \u001B[38;5;241m=\u001B[39m fill_int \u001B[38;5;28;01mif\u001B[39;00m is_self_int_dtype \u001B[38;5;129;01mand\u001B[39;00m is_other_int_dtype \u001B[38;5;28;01melse\u001B[39;00m fill_bool\n\u001B[1;32m--> 391\u001B[0m res_values \u001B[38;5;241m=\u001B[39m \u001B[43mna_logical_op\u001B[49m\u001B[43m(\u001B[49m\u001B[43mlvalues\u001B[49m\u001B[43m,\u001B[49m\u001B[43m \u001B[49m\u001B[43mrvalues\u001B[49m\u001B[43m,\u001B[49m\u001B[43m \u001B[49m\u001B[43mop\u001B[49m\u001B[43m)\u001B[49m\n\u001B[0;32m    392\u001B[0m \u001B[38;5;66;03m# error: Cannot call function of unknown type\u001B[39;00m\n\u001B[0;32m    393\u001B[0m res_values \u001B[38;5;241m=\u001B[39m filler(res_values)  \u001B[38;5;66;03m# type: ignore[operator]\u001B[39;00m\n",
      "File \u001B[1;32mG:\\Anaconda\\lib\\site-packages\\pandas\\core\\ops\\array_ops.py:308\u001B[0m, in \u001B[0;36mna_logical_op\u001B[1;34m(x, y, op)\u001B[0m\n\u001B[0;32m    306\u001B[0m     x \u001B[38;5;241m=\u001B[39m ensure_object(x)\n\u001B[0;32m    307\u001B[0m     y \u001B[38;5;241m=\u001B[39m ensure_object(y)\n\u001B[1;32m--> 308\u001B[0m     result \u001B[38;5;241m=\u001B[39m \u001B[43mlibops\u001B[49m\u001B[38;5;241;43m.\u001B[39;49m\u001B[43mvec_binop\u001B[49m\u001B[43m(\u001B[49m\u001B[43mx\u001B[49m\u001B[38;5;241;43m.\u001B[39;49m\u001B[43mravel\u001B[49m\u001B[43m(\u001B[49m\u001B[43m)\u001B[49m\u001B[43m,\u001B[49m\u001B[43m \u001B[49m\u001B[43my\u001B[49m\u001B[38;5;241;43m.\u001B[39;49m\u001B[43mravel\u001B[49m\u001B[43m(\u001B[49m\u001B[43m)\u001B[49m\u001B[43m,\u001B[49m\u001B[43m \u001B[49m\u001B[43mop\u001B[49m\u001B[43m)\u001B[49m\n\u001B[0;32m    309\u001B[0m \u001B[38;5;28;01melse\u001B[39;00m:\n\u001B[0;32m    310\u001B[0m     \u001B[38;5;66;03m# let null fall thru\u001B[39;00m\n\u001B[0;32m    311\u001B[0m     \u001B[38;5;28;01massert\u001B[39;00m lib\u001B[38;5;241m.\u001B[39mis_scalar(y)\n",
      "File \u001B[1;32mG:\\Anaconda\\lib\\site-packages\\pandas\\_libs\\ops.pyx:252\u001B[0m, in \u001B[0;36mpandas._libs.ops.vec_binop\u001B[1;34m()\u001B[0m\n",
      "File \u001B[1;32mG:\\Anaconda\\lib\\site-packages\\pandas\\_libs\\ops.pyx:245\u001B[0m, in \u001B[0;36mpandas._libs.ops.vec_binop\u001B[1;34m()\u001B[0m\n",
      "\u001B[1;31mTypeError\u001B[0m: unsupported operand type(s) for &: 'float' and 'float'"
     ]
    }
   ],
   "source": [
    "hate_crime_split_2 = hate_crime_split_1[hate_crime_split_1['VICTIM_COUNT'] <=100]"
   ],
   "metadata": {
    "collapsed": false,
    "pycharm": {
     "name": "#%%\n"
    }
   }
  },
  {
   "cell_type": "code",
   "execution_count": 63,
   "outputs": [],
   "source": [
    "hate_crime_split_3 = hate_crime_split_2[hate_crime_split_2['ADULT_OFFENDER_COUNT'] <=30]"
   ],
   "metadata": {
    "collapsed": false,
    "pycharm": {
     "name": "#%%\n"
    }
   }
  },
  {
   "cell_type": "code",
   "execution_count": 65,
   "outputs": [
    {
     "data": {
      "text/plain": "<Figure size 432x288 with 1 Axes>",
      "image/png": "[encoded data removed]"
     },
     "metadata": {
      "needs_background": "light"
     },
     "output_type": "display_data"
    }
   ],
   "source": [
    "hate_crime_split_3.plot(x = 'ADULT_OFFENDER_COUNT', y='VICTIM_COUNT', style='o')\n",
    "plt.title('Adult Offender Count vs Victim Count')\n",
    "plt.xlabel('Adult Offender Count')\n",
    "plt.ylabel('Victim Count')\n",
    "plt.show()"
   ],
   "metadata": {
    "collapsed": false,
    "pycharm": {
     "name": "#%%\n"
    }
   }
  },
  {
   "cell_type": "code",
   "execution_count": 66,
   "outputs": [],
   "source": [
    "X_2 = hate_crime_split_3['ADULT_OFFENDER_COUNT'].values.reshape(-1,1)\n",
    "y_2 = hate_crime_split_3['VICTIM_COUNT'].values.reshape(-1,1)"
   ],
   "metadata": {
    "collapsed": false,
    "pycharm": {
     "name": "#%%\n"
    }
   }
  },
  {
   "cell_type": "code",
   "execution_count": 67,
   "outputs": [],
   "source": [
    "X_train_2, X_test_2, y_train_2, y_test_2 = train_test_split(X_2, y_2, test_size=0.3, random_state=0)"
   ],
   "metadata": {
    "collapsed": false,
    "pycharm": {
     "name": "#%%\n"
    }
   }
  },
  {
   "cell_type": "code",
   "execution_count": 68,
   "outputs": [
    {
     "data": {
      "text/plain": "LinearRegression()",
      "text/html": "<style>#sk-container-id-2 {color: black;background-color: white;}#sk-container-id-2 pre{padding: 0;}#sk-container-id-2 div.sk-toggleable {background-color: white;}#sk-container-id-2 label.sk-toggleable__label {cursor: pointer;display: block;width: 100%;margin-bottom: 0;padding: 0.3em;box-sizing: border-box;text-align: center;}#sk-container-id-2 label.sk-toggleable__label-arrow:before {content: \"▸\";float: left;margin-right: 0.25em;color: #696969;}#sk-container-id-2 label.sk-toggleable__label-arrow:hover:before {color: black;}#sk-container-id-2 div.sk-estimator:hover label.sk-toggleable__label-arrow:before {color: black;}#sk-container-id-2 div.sk-toggleable__content {max-height: 0;max-width: 0;overflow: hidden;text-align: left;background-color: #f0f8ff;}#sk-container-id-2 div.sk-toggleable__content pre {margin: 0.2em;color: black;border-radius: 0.25em;background-color: #f0f8ff;}#sk-container-id-2 input.sk-toggleable__control:checked~div.sk-toggleable__content {max-height: 200px;max-width: 100%;overflow: auto;}#sk-container-id-2 input.sk-toggleable__control:checked~label.sk-toggleable__label-arrow:before {content: \"▾\";}#sk-container-id-2 div.sk-estimator input.sk-toggleable__control:checked~label.sk-toggleable__label {background-color: #d4ebff;}#sk-container-id-2 div.sk-label input.sk-toggleable__control:checked~label.sk-toggleable__label {background-color: #d4ebff;}#sk-container-id-2 input.sk-hidden--visually {border: 0;clip: rect(1px 1px 1px 1px);clip: rect(1px, 1px, 1px, 1px);height: 1px;margin: -1px;overflow: hidden;padding: 0;position: absolute;width: 1px;}#sk-container-id-2 div.sk-estimator {font-family: monospace;background-color: #f0f8ff;border: 1px dotted black;border-radius: 0.25em;box-sizing: border-box;margin-bottom: 0.5em;}#sk-container-id-2 div.sk-estimator:hover {background-color: #d4ebff;}#sk-container-id-2 div.sk-parallel-item::after {content: \"\";width: 100%;border-bottom: 1px solid gray;flex-grow: 1;}#sk-container-id-2 div.sk-label:hover label.sk-toggleable__label {background-color: #d4ebff;}#sk-container-id-2 div.sk-serial::before {content: \"\";position: absolute;border-left: 1px solid gray;box-sizing: border-box;top: 0;bottom: 0;left: 50%;z-index: 0;}#sk-container-id-2 div.sk-serial {display: flex;flex-direction: column;align-items: center;background-color: white;padding-right: 0.2em;padding-left: 0.2em;position: relative;}#sk-container-id-2 div.sk-item {position: relative;z-index: 1;}#sk-container-id-2 div.sk-parallel {display: flex;align-items: stretch;justify-content: center;background-color: white;position: relative;}#sk-container-id-2 div.sk-item::before, #sk-container-id-2 div.sk-parallel-item::before {content: \"\";position: absolute;border-left: 1px solid gray;box-sizing: border-box;top: 0;bottom: 0;left: 50%;z-index: -1;}#sk-container-id-2 div.sk-parallel-item {display: flex;flex-direction: column;z-index: 1;position: relative;background-color: white;}#sk-container-id-2 div.sk-parallel-item:first-child::after {align-self: flex-end;width: 50%;}#sk-container-id-2 div.sk-parallel-item:last-child::after {align-self: flex-start;width: 50%;}#sk-container-id-2 div.sk-parallel-item:only-child::after {width: 0;}#sk-container-id-2 div.sk-dashed-wrapped {border: 1px dashed gray;margin: 0 0.4em 0.5em 0.4em;box-sizing: border-box;padding-bottom: 0.4em;background-color: white;}#sk-container-id-2 div.sk-label label {font-family: monospace;font-weight: bold;display: inline-block;line-height: 1.2em;}#sk-container-id-2 div.sk-label-container {text-align: center;}#sk-container-id-2 div.sk-container {/* jupyter's `normalize.less` sets `[hidden] { display: none; }` but bootstrap.min.css set `[hidden] { display: none !important; }` so we also need the `!important` here to be able to override the default hidden behavior on the sphinx rendered scikit-learn.org. See: https://github.com/scikit-learn/scikit-learn/issues/21755 */display: inline-block !important;position: relative;}#sk-container-id-2 div.sk-text-repr-fallback {display: none;}</style><div id=\"sk-container-id-2\" class=\"sk-top-container\"><div class=\"sk-text-repr-fallback\"><pre>LinearRegression()</pre><b>In a Jupyter environment, please rerun this cell to show the HTML representation or trust the notebook. <br />On GitHub, the HTML representation is unable to render, please try loading this page with nbviewer.org.</b></div><div class=\"sk-container\" hidden><div class=\"sk-item\"><div class=\"sk-estimator sk-toggleable\"><input class=\"sk-toggleable__control sk-hidden--visually\" id=\"sk-estimator-id-2\" type=\"checkbox\" checked><label for=\"sk-estimator-id-2\" class=\"sk-toggleable__label sk-toggleable__label-arrow\">LinearRegression</label><div class=\"sk-toggleable__content\"><pre>LinearRegression()</pre></div></div></div></div></div>"
     },
     "execution_count": 68,
     "metadata": {},
     "output_type": "execute_result"
    }
   ],
   "source": [
    "regression = LinearRegression()\n",
    "regression.fit(X_train_2, y_train_2)"
   ],
   "metadata": {
    "collapsed": false,
    "pycharm": {
     "name": "#%%\n"
    }
   }
  },
  {
   "cell_type": "code",
   "execution_count": 69,
   "outputs": [],
   "source": [
    "y_predicted_2 = regression.predict(X_test_2)"
   ],
   "metadata": {
    "collapsed": false,
    "pycharm": {
     "name": "#%%\n"
    }
   }
  },
  {
   "cell_type": "code",
   "execution_count": 72,
   "outputs": [],
   "source": [
    "rmse1 = mean_squared_error(y_test_2, y_predicted_2)\n",
    "r2_1 = r2_score(y_test_2, y_predicted_2)"
   ],
   "metadata": {
    "collapsed": false,
    "pycharm": {
     "name": "#%%\n"
    }
   }
  },
  {
   "cell_type": "code",
   "execution_count": 73,
   "outputs": [
    {
     "name": "stdout",
     "output_type": "stream",
     "text": [
      "Slope: [[0.06981153]]\n",
      "Mean squared error:  1.003678915354283\n",
      "R2 score:  0.0009732527546771896\n"
     ]
    }
   ],
   "source": [
    "print('Slope:' ,regression.coef_)\n",
    "print('Mean squared error: ', rmse1)\n",
    "print('R2 score: ', r2_1)"
   ],
   "metadata": {
    "collapsed": false,
    "pycharm": {
     "name": "#%%\n"
    }
   }
  },
  {
   "cell_type": "code",
   "execution_count": 74,
   "outputs": [
    {
     "data": {
      "text/plain": "<Figure size 432x288 with 1 Axes>",
      "image/png": "[encoded data removed]"
     },
     "metadata": {
      "needs_background": "light"
     },
     "output_type": "display_data"
    }
   ],
   "source": [
    "plot_test = plt\n",
    "plot_test.scatter(X_test_2, y_test_2, color='gray', s = 15)\n",
    "plot_test.plot(X_test_2, y_predicted_2, color='red', linewidth =3)\n",
    "plot_test.title('Adult Offender Count vs. Victim Count (Test set)')\n",
    "plot_test.xlabel('Adult Offender Count')\n",
    "plot_test.ylabel('Victim Count')\n",
    "plot_test.show()"
   ],
   "metadata": {
    "collapsed": false,
    "pycharm": {
     "name": "#%%\n"
    }
   }
  },
  {
   "cell_type": "markdown",
   "source": [
    "The model appeared to perform well. Removing outliers did not change the results. The null hypothesis was proven to be false."
   ],
   "metadata": {
    "collapsed": false,
    "pycharm": {
     "name": "#%% md\n"
    }
   }
  }
 ],
 "metadata": {
  "kernelspec": {
   "display_name": "Python 3",
   "language": "python",
   "name": "python3"
  },
  "language_info": {
   "codemirror_mode": {
    "name": "ipython",
    "version": 2
   },
   "file_extension": ".py",
   "mimetype": "text/x-python",
   "name": "python",
   "nbconvert_exporter": "python",
   "pygments_lexer": "ipython2",
   "version": "2.7.6"
  }
 },
 "nbformat": 4,
 "nbformat_minor": 0
}